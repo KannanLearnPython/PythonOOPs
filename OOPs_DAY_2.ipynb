{
  "nbformat": 4,
  "nbformat_minor": 0,
  "metadata": {
    "colab": {
      "provenance": []
    },
    "kernelspec": {
      "name": "python3",
      "display_name": "Python 3"
    },
    "language_info": {
      "name": "python"
    }
  },
  "cells": [
    {
      "cell_type": "code",
      "execution_count": 5,
      "metadata": {
        "id": "Yv0L4kwIErE6",
        "outputId": "59f3f4c0-20ac-4c9b-f48c-2a6b29862f71",
        "colab": {
          "base_uri": "https://localhost:8080/"
        }
      },
      "outputs": [
        {
          "output_type": "stream",
          "name": "stdout",
          "text": [
            "78.5\n",
            "31.400000000000002\n",
            "10\n",
            "5\n"
          ]
        }
      ],
      "source": [
        "class Circle:\n",
        "  def __init__(self,radius):\n",
        "    self.radius = radius\n",
        "  def area(self):\n",
        "    return 3.14*self.radius*self.radius\n",
        "  def perimeter(self):\n",
        "    return 2*3.14*self.radius\n",
        "  def diameter(self):\n",
        "    return 2*self.radius\n",
        "\n",
        "c1 = Circle(5)\n",
        "print(c1.area())\n",
        "print(c1.perimeter())\n",
        "print(c1.diameter())\n",
        "print(c1.radius)\n"
      ]
    },
    {
      "cell_type": "code",
      "source": [
        "class Emp:\n",
        "  def __init__(self,name,salary,department):\n",
        "    self.name = name\n",
        "    self.salary = salary\n",
        "    self.department = department\n",
        "  def show(self):\n",
        "    print(\"Name:\",self.name)\n",
        "    print(\"Salary:\",self.salary)\n",
        "    print(\"Department:\",self.department)\n",
        "\n",
        "e1 = Emp('raj',50000,'IT')\n",
        "e2 = Emp('Mani',30000,'Admin')\n",
        "\n",
        "print(e1.name)\n",
        "e1.name = 'Krishna'\n",
        "print(e1.name)\n",
        "print(getattr(e1,'name'))\n",
        "print(setattr(e2,'name','Suresh'))\n",
        "print(delattr(e1,'department'))\n",
        "print(hasattr(e1,'age'))\n",
        "print(hasattr(e1,'name'))\n",
        "print(e1.__dict__)\n",
        "print(e2.__dict__)"
      ],
      "metadata": {
        "id": "_vcYRvq5c7C7",
        "outputId": "b1529051-ae85-4870-e5e6-b894290ed412",
        "colab": {
          "base_uri": "https://localhost:8080/"
        }
      },
      "execution_count": 12,
      "outputs": [
        {
          "output_type": "stream",
          "name": "stdout",
          "text": [
            "raj\n",
            "Krishna\n",
            "Krishna\n",
            "None\n",
            "None\n",
            "False\n",
            "True\n",
            "{'name': 'Krishna', 'salary': 50000}\n",
            "{'name': 'Suresh', 'salary': 30000, 'department': 'Admin'}\n"
          ]
        }
      ]
    }
  ]
}