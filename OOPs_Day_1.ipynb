{
  "nbformat": 4,
  "nbformat_minor": 0,
  "metadata": {
    "colab": {
      "provenance": []
    },
    "kernelspec": {
      "name": "python3",
      "display_name": "Python 3"
    },
    "language_info": {
      "name": "python"
    }
  },
  "cells": [
    {
      "cell_type": "code",
      "source": [
        "class Calculator:\n",
        "  #n1,n2, res = 0, 0, 0  #atributes\n",
        "  def __init__(self,n1,n2): #Constructor\n",
        "    self.n1=n1\n",
        "    self.n2=n2\n",
        "\n",
        "  def add(self):  #method\n",
        "    #print(self.n1+self.n2)\n",
        "    return self.n1+self.n2\n",
        "\n",
        "  def sub(self):\n",
        "    return self.n1-self.n2\n",
        "\n",
        "  def mul(self):\n",
        "    return self.n1*self.n2\n",
        "\n",
        "  def div(self):\n",
        "    if self.n2>0 :\n",
        "      return self.n1/self.n2\n",
        "    else:\n",
        "      return 0\n",
        "\n",
        "#end of the class definition\n",
        "c1 = Calculator(5,6) #object creation\n",
        "c2 = Calculator(20,0)\n",
        "\n",
        "print(c1.add()) #calling a method from a object\n",
        "print(c2.mul())\n",
        "print(c2.div())\n",
        "\n"
      ],
      "metadata": {
        "id": "c0gr3U9SDyLm",
        "colab": {
          "base_uri": "https://localhost:8080/"
        },
        "outputId": "da494d39-af1f-4fb3-df15-c5be9f70c61a"
      },
      "execution_count": 17,
      "outputs": [
        {
          "output_type": "stream",
          "name": "stdout",
          "text": [
            "11\n",
            "0\n",
            "0\n"
          ]
        }
      ]
    },
    {
      "cell_type": "code",
      "source": [
        "class Sample:\n",
        "  def __init__(self):\n",
        "    self.data=10\n",
        "  def input_data(self):\n",
        "    self.data=input(\"Enter some text in lower case : \")\n",
        "  def process_data(self):\n",
        "    self.data=self.data.upper()\n",
        "  def output_data(self):\n",
        "    print(self.data)\n",
        "s1=Sample()\n",
        "s1.input_data()\n",
        "s1.process_data()\n",
        "s1.output_data()\n"
      ],
      "metadata": {
        "id": "xACStrp5RDwl",
        "outputId": "8057ae7d-97fd-40d7-b9c4-868859390d8b",
        "colab": {
          "base_uri": "https://localhost:8080/"
        }
      },
      "execution_count": 3,
      "outputs": [
        {
          "output_type": "stream",
          "name": "stdout",
          "text": [
            "Enter some text in lower case : kannan\n",
            "KANNAN\n"
          ]
        }
      ]
    }
  ]
}