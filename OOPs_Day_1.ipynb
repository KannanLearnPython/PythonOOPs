{
  "nbformat": 4,
  "nbformat_minor": 0,
  "metadata": {
    "colab": {
      "provenance": []
    },
    "kernelspec": {
      "name": "python3",
      "display_name": "Python 3"
    },
    "language_info": {
      "name": "python"
    }
  },
  "cells": [
    {
      "cell_type": "code",
      "source": [
        "class Calculator:\n",
        "  n1,n2, res = 0, 0, 0  #atributes\n",
        "  def add(self,n1,n2):  #method\n",
        "    pass\n",
        "  def sub(self,n1,n2):\n",
        "    pass\n",
        "\n",
        "  def mul(self,n1,n2):\n",
        "    pass\n",
        "\n",
        "  def div(self,n1,n2):\n",
        "    pass\n",
        "#end of the class definition\n",
        "c1 = Calculator() #object creation\n",
        "c2 = Calculator()\n",
        "\n",
        "c1.add() #calling a method from a object\n",
        "c2.mul()\n",
        "\n"
      ],
      "metadata": {
        "id": "c0gr3U9SDyLm",
        "outputId": "6132ac98-2286-4722-ffc8-ebefaf156737",
        "colab": {
          "base_uri": "https://localhost:8080/"
        }
      },
      "execution_count": 1,
      "outputs": [
        {
          "output_type": "execute_result",
          "data": {
            "text/plain": [
              "15"
            ]
          },
          "metadata": {},
          "execution_count": 1
        }
      ]
    }
  ]
}